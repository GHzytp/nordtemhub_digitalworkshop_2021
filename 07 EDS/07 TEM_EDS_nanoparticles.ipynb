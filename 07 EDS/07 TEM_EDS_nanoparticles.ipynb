{
 "cells": [
  {
   "cell_type": "markdown",
   "metadata": {},
   "source": [
    "# EDS-TEM quantification of core shell nanoparticles\n",
    "\n",
    "Using machine learning methods, such as independent component analysis (ICA), the composition of embedded nanostructures, such as core-shell nanoparticles, can be accurately measured as demonstrated by D. Roussow et al., Nano Letters, 2015 (see the [full article](https://www.repository.cam.ac.uk/bitstream/handle/1810/248102/Roussouw%20et%20al%202015%20Nano%20Letters.pdf?sequence=1)). Using the same data, this notebook reproduces the main results of this article.\n",
    "\n",
    "\n",
    "## Author\n",
    "\n",
    "* 13/04/2015 Pierre Burdet - Developed for HyperSpy workshop at University of Cambridge\n",
    "\n",
    "## Changes\n",
    "\n",
    "* 29/05/2016 Duncan Johnstone. Update the syntax for HyperSpy 0.8.5 (Python 3 compatibility)\n",
    "* 03/08/2016 Francisco de la Peña. Update the syntax for HyperSpy 1.1\n",
    "* 06/08/2016 Francisco de la Peña. Update the syntax for HyperSpy 0.8.1\n",
    "* 27/08/2016 Pierre Burdet. Update for workshop at EMC Lyon\n",
    "* 04/04/2018 Joshua Taillon. Bugfix and update for workshop at NIST\n",
    "* 18/07/2019 Katherine MacArthur. Update to include basic quantification, for M&M 2019 Portland\n",
    "\n",
    "## Requirements\n",
    "\n",
    "* HyperSpy 1.5.1\n",
    "\n",
    "## <a id='top'></a> Contents\n",
    "\n",
    "1. <a href='dat'> Specimen & Data</a>\n",
    "2. <a href='#loa'> Loading and viewing data</a>\n",
    "3. <a href='#counts'> Extracting Counts </a>\n",
    "4. <a href='#quant'> Basic Quantification </a>\n",
    "5. <a href='#bss'> Blind source separation of core/shell nanoparticles</a>\n",
    "6. <a href='#bare'> Representative spectrum from bare cores</a>\n",
    "7. <a href='#com'> Comparison and quantification</a>\n",
    "8. <a href='#fur'> Going father: Isolating the nanoparticles</a>\n",
    "\n",
    "# <a id='dat'></a> 1. Specimen & Data\n",
    "\n",
    "The sample and the data used in this tutorial are described in \n",
    "D. Roussow, et al., Nano Letters, In Press (2015) (see the [full article](https://www.repository.cam.ac.uk/bitstream/handle/1810/248102/Roussouw%20et%20al%202015%20Nano%20Letters.pdf?sequence=1)).\n",
    "\n",
    "FePt@Fe$_3$O$_4$ core-shell nanoparticles are investigated with an EDS/TEM experiment (FEI Osiris TEM, 4 EDS detectors). The composition of the core can be measured with ICA (see figure 1c). To prove the accuracy of the results, measurements on bare FePt bimetallic nanoparticles from a synthesis prior to the shell addition step are used."
   ]
  },
  {
   "cell_type": "markdown",
   "metadata": {},
   "source": [
    "<img src=\"images/core_shell.png\" style=\"height:350px;\">\n",
    "Figure 1: (a) A spectrum image obtained from a cluster of core-shell nanoparticles. (b) The nanoparticles are comprised of a bi-metallic Pt/Fe core surrounded by an iron oxide shell on a carbon support. (c) ICA decomposes the mixed EDX signals into components representing the core (IC#0), shell (IC#1) and support (IC#2)."
   ]
  },
  {
   "cell_type": "markdown",
   "metadata": {},
   "source": [
    "# <a id='loa'></a> 2. Loading and viewing data"
   ]
  },
  {
   "cell_type": "markdown",
   "metadata": {},
   "source": [
    "<a href='#top'> Table of contents</a>"
   ]
  },
  {
   "cell_type": "markdown",
   "metadata": {},
   "source": [
    "Import HyperSpy, numpy and matplotlib libraries.\n",
    "\n",
    "*Remember, if at any point you do not understand how a function operates, its help file can be loaded by typing the name of the command followed by a '?' into a cell and then running that cell.*"
   ]
  },
  {
   "cell_type": "code",
   "execution_count": 1,
   "metadata": {},
   "outputs": [
    {
     "name": "stderr",
     "output_type": "stream",
     "text": [
      "WARNING:hyperspy.api:The ipywidgets GUI elements are not available, probably because the hyperspy_gui_ipywidgets package is not installed.\n"
     ]
    }
   ],
   "source": [
    "%matplotlib qt\n",
    "import hyperspy.api as hs"
   ]
  },
  {
   "cell_type": "markdown",
   "metadata": {},
   "source": [
    "Load the spectrum images of the bare nanoparticles and those with a core-shell structure."
   ]
  },
  {
   "cell_type": "code",
   "execution_count": 2,
   "metadata": {},
   "outputs": [],
   "source": [
    "c = hs.load(\"bare_core.hdf5\")\n",
    "cs = hs.load(\"core_shell.hdf5\")"
   ]
  },
  {
   "cell_type": "markdown",
   "metadata": {},
   "source": [
    "Check the metadata has imported correctly. In particular whether the list of elements you wish to analyse is correct."
   ]
  },
  {
   "cell_type": "code",
   "execution_count": 3,
   "metadata": {},
   "outputs": [
    {
     "data": {
      "text/html": [
       "<ul style=\"margin: 0px; list-style-position: outside;\">\n",
       "                    <details open>\n",
       "                    <summary style=\"display: list-item;\">\n",
       "                    <li style=\"display: inline;\">\n",
       "                    Acquisition_instrument\n",
       "                    </li></summary>\n",
       "                    <ul style=\"margin: 0px; list-style-position: outside;\">\n",
       "                    <details closed>\n",
       "                    <summary style=\"display: list-item;\">\n",
       "                    <li style=\"display: inline;\">\n",
       "                    TEM\n",
       "                    </li></summary>\n",
       "                    <ul style=\"margin: 0px; list-style-position: outside;\">\n",
       "                    <details closed>\n",
       "                    <summary style=\"display: list-item;\">\n",
       "                    <li style=\"display: inline;\">\n",
       "                    Detector\n",
       "                    </li></summary>\n",
       "                    <ul style=\"margin: 0px; list-style-position: outside;\">\n",
       "                    <details closed>\n",
       "                    <summary style=\"display: list-item;\">\n",
       "                    <li style=\"display: inline;\">\n",
       "                    EDS\n",
       "                    </li></summary>\n",
       "                    \n",
       "    <ul style=\"margin: 0px; list-style-position: outside;\">\n",
       "    <li style='margin-left:1em; padding-left: 0.5em'>azimuth_angle = 0.0</li></ul>\n",
       "    \n",
       "    <ul style=\"margin: 0px; list-style-position: outside;\">\n",
       "    <li style='margin-left:1em; padding-left: 0.5em'>elevation_angle = 35.0</li></ul>\n",
       "    \n",
       "    <ul style=\"margin: 0px; list-style-position: outside;\">\n",
       "    <li style='margin-left:1em; padding-left: 0.5em'>energy_resolution_MnKa = 130.0</li></ul>\n",
       "    </details></ul></details></ul><ul style=\"margin: 0px; list-style-position: outside;\">\n",
       "                    <details closed>\n",
       "                    <summary style=\"display: list-item;\">\n",
       "                    <li style=\"display: inline;\">\n",
       "                    Stage\n",
       "                    </li></summary>\n",
       "                    \n",
       "    <ul style=\"margin: 0px; list-style-position: outside;\">\n",
       "    <li style='margin-left:1em; padding-left: 0.5em'>tilt_alpha = 0.0</li></ul>\n",
       "    </details></ul>\n",
       "    <ul style=\"margin: 0px; list-style-position: outside;\">\n",
       "    <li style='margin-left:1em; padding-left: 0.5em'>acquisition_mode = STEM</li></ul>\n",
       "    \n",
       "    <ul style=\"margin: 0px; list-style-position: outside;\">\n",
       "    <li style='margin-left:1em; padding-left: 0.5em'>beam_energy = 200.0</li></ul>\n",
       "    \n",
       "    <ul style=\"margin: 0px; list-style-position: outside;\">\n",
       "    <li style='margin-left:1em; padding-left: 0.5em'>microscope = Microscope TecnaiOsiris 200 kV D658 AnalyticalTwin</li></ul>\n",
       "    </details></ul></details></ul><ul style=\"margin: 0px; list-style-position: outside;\">\n",
       "                    <details open>\n",
       "                    <summary style=\"display: list-item;\">\n",
       "                    <li style=\"display: inline;\">\n",
       "                    General\n",
       "                    </li></summary>\n",
       "                    \n",
       "    <ul style=\"margin: 0px; list-style-position: outside;\">\n",
       "    <li style='margin-left:1em; padding-left: 0.5em'>date = 14.10.2014</li></ul>\n",
       "    \n",
       "    <ul style=\"margin: 0px; list-style-position: outside;\">\n",
       "    <li style='margin-left:1em; padding-left: 0.5em'>title = Bare core</li></ul>\n",
       "    </details></ul><ul style=\"margin: 0px; list-style-position: outside;\">\n",
       "                    <details open>\n",
       "                    <summary style=\"display: list-item;\">\n",
       "                    <li style=\"display: inline;\">\n",
       "                    Sample\n",
       "                    </li></summary>\n",
       "                    \n",
       "    <ul style=\"margin: 0px; list-style-position: outside;\">\n",
       "    <li style='margin-left:1em; padding-left: 0.5em'>elements = array(['Fe', 'Pt'], dtype='&lt;U2')</li></ul>\n",
       "    \n",
       "    <ul style=\"margin: 0px; list-style-position: outside;\">\n",
       "    <li style='margin-left:1em; padding-left: 0.5em'>xray_lines = array(['Fe_Ka', 'Pt_La'], dtype='&lt;U5')</li></ul>\n",
       "    </details></ul><ul style=\"margin: 0px; list-style-position: outside;\">\n",
       "                    <details open>\n",
       "                    <summary style=\"display: list-item;\">\n",
       "                    <li style=\"display: inline;\">\n",
       "                    Signal\n",
       "                    </li></summary>\n",
       "                    \n",
       "    <ul style=\"margin: 0px; list-style-position: outside;\">\n",
       "    <li style='margin-left:1em; padding-left: 0.5em'>binned = True</li></ul>\n",
       "    \n",
       "    <ul style=\"margin: 0px; list-style-position: outside;\">\n",
       "    <li style='margin-left:1em; padding-left: 0.5em'>signal_origin = </li></ul>\n",
       "    \n",
       "    <ul style=\"margin: 0px; list-style-position: outside;\">\n",
       "    <li style='margin-left:1em; padding-left: 0.5em'>signal_type = EDS_TEM</li></ul>\n",
       "    </details></ul>"
      ],
      "text/plain": [
       "├── Acquisition_instrument\n",
       "│   └── TEM\n",
       "│       ├── Detector\n",
       "│       │   └── EDS\n",
       "│       │       ├── azimuth_angle = 0.0\n",
       "│       │       ├── elevation_angle = 35.0\n",
       "│       │       └── energy_resolution_MnKa = 130.0\n",
       "│       ├── Stage\n",
       "│       │   └── tilt_alpha = 0.0\n",
       "│       ├── acquisition_mode = STEM\n",
       "│       ├── beam_energy = 200.0\n",
       "│       └── microscope = Microscope TecnaiOsiris 200 kV D658 AnalyticalTwin\n",
       "├── General\n",
       "│   ├── date = 14.10.2014\n",
       "│   └── title = Bare core\n",
       "├── Sample\n",
       "│   ├── elements = array(['Fe', 'Pt'], dtype='<U2')\n",
       "│   └── xray_lines = array(['Fe_Ka', 'Pt_La'], dtype='<U5')\n",
       "└── Signal\n",
       "    ├── binned = True\n",
       "    ├── signal_origin = \n",
       "    └── signal_type = EDS_TEM"
      ]
     },
     "execution_count": 3,
     "metadata": {},
     "output_type": "execute_result"
    }
   ],
   "source": [
    "c.metadata"
   ]
  },
  {
   "cell_type": "markdown",
   "metadata": {},
   "source": [
    "Plot the core-shell data to inspect the signal level:"
   ]
  },
  {
   "cell_type": "code",
   "execution_count": 4,
   "metadata": {},
   "outputs": [],
   "source": [
    "cs.plot()"
   ]
  },
  {
   "cell_type": "markdown",
   "metadata": {},
   "source": [
    "Plotting the integrated counts for the whole spectrum image is a good way to check what elements exist in the sample. Adding 'True' to the function also labels any elements from the metadata onto the spectrum."
   ]
  },
  {
   "cell_type": "code",
   "execution_count": 5,
   "metadata": {},
   "outputs": [],
   "source": [
    "cs.sum().plot()"
   ]
  },
  {
   "cell_type": "markdown",
   "metadata": {},
   "source": [
    "## <a id='#counts'></a> 3. Extracting count maps of elements\n",
    "\n",
    "<a href='#top'> Table of contents</a>\n"
   ]
  },
  {
   "cell_type": "markdown",
   "metadata": {},
   "source": [
    "If they're not already added it is important to make sure all the elements you want to extract the intensities for are in the metadata of the sample."
   ]
  },
  {
   "cell_type": "code",
   "execution_count": 6,
   "metadata": {},
   "outputs": [],
   "source": [
    "cs.set_elements(['Fe','Pt'])\n",
    "cs.set_lines(['Fe_Ka', 'Pt_La'])\n",
    "\n",
    "c.set_elements(['Fe','Pt'])\n",
    "c.set_lines(['Fe_Ka', 'Pt_La'])\n",
    "#cs.add_elements and cs.add_lines also work if you don't want to override what is \n",
    "#already in the metadata."
   ]
  },
  {
   "cell_type": "markdown",
   "metadata": {},
   "source": [
    "Extracting lines can be done without any background or integration window parameters. However if none are specified the default integration window is 1 FWHM and no background subtraction is carried out."
   ]
  },
  {
   "cell_type": "markdown",
   "metadata": {},
   "source": [
    "Line_width is the distance from the x-ray line (in FWHM) the the background window is taken [left, right] allowing different distances for the two directions.\n",
    "An asymmetric value is used here because otherwise the Pt background windows overlap with the Cu K$_β$ line from the sample grid."
   ]
  },
  {
   "cell_type": "code",
   "execution_count": 22,
   "metadata": {},
   "outputs": [],
   "source": [
    "bw = cs.estimate_background_windows(line_width = [5,2])\n",
    "iw = cs.estimate_integration_windows(windows_width=3)"
   ]
  },
  {
   "cell_type": "markdown",
   "metadata": {},
   "source": [
    "It is important to plot the windows to check that they are selecting the data correctly otherwise errors, particularly in background subtraction arise. \n",
    "\n",
    "The integration windows are represented by dashed lines and background windows by solid lines. The estimated background is the plotted by the close to horizontal black lines.\n",
    "\n",
    "Just plotting the raw data doesn't easily show the lines we're interested in. We can improve this by plotting only a subsection of the energy range."
   ]
  },
  {
   "cell_type": "code",
   "execution_count": 23,
   "metadata": {},
   "outputs": [],
   "source": [
    "cs.sum().plot(True, background_windows =bw, integration_windows=iw)"
   ]
  },
  {
   "cell_type": "markdown",
   "metadata": {},
   "source": [
    "Just plotting the raw data doesn't easily show the lines we're interested in. We can improve this by plotting only a subsection of the energy range."
   ]
  },
  {
   "cell_type": "code",
   "execution_count": 24,
   "metadata": {},
   "outputs": [],
   "source": [
    "cs.isig[5.:12.5].sum().plot(True, background_windows=bw, integration_windows=iw)"
   ]
  },
  {
   "cell_type": "markdown",
   "metadata": {},
   "source": [
    "*Try running the previous two cells of code  above with line_width=[3.0,3.0] and see how this results in an erroneous, background subtraction by plotting the background lines.*"
   ]
  },
  {
   "cell_type": "markdown",
   "metadata": {},
   "source": [
    "How accurate background subtraction will be on a pixel-by-pixel basis can be see with this plot. \n",
    "\n",
    "The x and y sliders select a pixel in the particle images we plotted earlier. \n",
    "\n",
    "You should be able to find some examples (e.g. the Fe K$_α$ line at X=39, Y=44) of where the background subtraction still fails due to a poor signal-to-noise ratio in the data.\n",
    "\n"
   ]
  },
  {
   "cell_type": "code",
   "execution_count": 25,
   "metadata": {},
   "outputs": [
    {
     "data": {
      "application/vnd.jupyter.widget-view+json": {
       "model_id": "63b8e9c38c5649d1828e27399e91271d",
       "version_major": 2,
       "version_minor": 0
      },
      "text/plain": [
       "VBox(children=(HBox(children=(Label(value='x', layout=Layout(width='15%')), IntSlider(value=0, description='in…"
      ]
     },
     "metadata": {},
     "output_type": "display_data"
    }
   ],
   "source": [
    "cs.isig[5.:12.5].plot(True, background_windows=bw, navigator='slider')"
   ]
  },
  {
   "cell_type": "markdown",
   "metadata": {},
   "source": [
    "Another way to adjust the location of the background windows is by changing specific numbers in the background window array individually.\n",
    "\n",
    "Running the 'bw' command will output the array, which contains keV coordinates corresponding to the position of the background windows. Each row corresponds to a different element in the list given in the metadata. Remember arrays in Python start at (0,0).\n",
    "\n",
    "These two commands therefore alter the position of the start and end points of the left-hand background window for Pt."
   ]
  },
  {
   "cell_type": "code",
   "execution_count": 26,
   "metadata": {},
   "outputs": [
    {
     "data": {
      "text/plain": [
       "array([[5.59527895, 5.73004913, 6.67344035, 6.80821052],\n",
       "       [8.47913271, 8.63962726, 9.7630891 , 9.92358364]])"
      ]
     },
     "execution_count": 26,
     "metadata": {},
     "output_type": "execute_result"
    }
   ],
   "source": [
    "bw"
   ]
  },
  {
   "cell_type": "code",
   "execution_count": 27,
   "metadata": {},
   "outputs": [
    {
     "data": {
      "text/plain": [
       "array([[5.59527895, 5.73004913, 6.67344035, 6.80821052],\n",
       "       [8.44      , 8.65      , 9.7630891 , 9.92358364]])"
      ]
     },
     "execution_count": 27,
     "metadata": {},
     "output_type": "execute_result"
    }
   ],
   "source": [
    "bw[1, 0] = 8.44\n",
    "bw[1, 1] = 8.65\n",
    "bw"
   ]
  },
  {
   "cell_type": "markdown",
   "metadata": {},
   "source": [
    "Often it is prudent to rebin the data such that counts per pixel are increased and a more reliable background subtraction can be carried out. This can be easily done with the rebin function to any new scale.\n",
    "\n",
    "These functions will perform rebinning on both the core-shell ('cs') data and the core-only ('c') data. We define using the 'scale' parameter that we want 2x binning in X, 2x binning in Y, and 1x binning in Z (our counts).\n",
    "\n",
    "*Note, as we are re-defining 'cs' or 'c', this overwrites our previously-imported data. This means running this command multiple times will re-bin the data multiple times. If you accidentally run this command too many times, simply re-import the data by running the 'hs.load' commands at the top of this workbook'.*"
   ]
  },
  {
   "cell_type": "code",
   "execution_count": 28,
   "metadata": {},
   "outputs": [],
   "source": [
    "cs = cs.rebin(scale=(2,2,1))\n",
    "c = c.rebin(scale=(2,2,1))"
   ]
  },
  {
   "cell_type": "markdown",
   "metadata": {},
   "source": [
    "Finally, once the background subtraction windows have been selected to be in careful positions it is possible to extract the intensities. \n",
    "\n",
    "Note that exactly the same windows have been used for analysis of both the 'core' and 'core-shell' data sets. This is critical here as we are comparing the two datasets."
   ]
  },
  {
   "cell_type": "code",
   "execution_count": 29,
   "metadata": {},
   "outputs": [],
   "source": [
    "cs_intensities = cs.get_lines_intensity(background_windows=bw, integration_windows=iw)\n",
    "c_intensities = c.get_lines_intensity(background_windows=bw, integration_windows=iw)"
   ]
  },
  {
   "cell_type": "markdown",
   "metadata": {},
   "source": [
    "Each 'get_lines_intensity' command will create a list of images, again in the same order of the list of elements in the list of metadata. If the element is not in the metadata its intensity map will not be extracted.\n",
    "\n",
    "We can then run 'cs_intensities' to confirm the that we have extracted intensity maps for all our elements of interest."
   ]
  },
  {
   "cell_type": "code",
   "execution_count": 30,
   "metadata": {},
   "outputs": [
    {
     "data": {
      "text/plain": [
       "[<BaseSignal, title: X-ray line intensity of Core shell: Fe_Ka at 6.40 keV, dimensions: (32, 32|)>,\n",
       " <BaseSignal, title: X-ray line intensity of Core shell: Pt_La at 9.44 keV, dimensions: (32, 32|)>]"
      ]
     },
     "execution_count": 30,
     "metadata": {},
     "output_type": "execute_result"
    }
   ],
   "source": [
    "cs_intensities"
   ]
  },
  {
   "cell_type": "code",
   "execution_count": 31,
   "metadata": {},
   "outputs": [],
   "source": [
    "# Plotting one particular image (in this case, the first, Fe_Ka map) can be done with:\n",
    "cs_intensities[0].plot()"
   ]
  },
  {
   "cell_type": "code",
   "execution_count": 32,
   "metadata": {},
   "outputs": [],
   "source": [
    "cs_intensities[1].plot()"
   ]
  },
  {
   "cell_type": "code",
   "execution_count": 40,
   "metadata": {},
   "outputs": [
    {
     "name": "stderr",
     "output_type": "stream",
     "text": [
      "/Users/macark/Documents/Git/hyperspy/hyperspy/drawing/utils.py:818: RuntimeWarning: More than 20 figures have been opened. Figures created through the pyplot interface (`matplotlib.pyplot.figure`) are retained until explicitly closed and may consume too much memory. (To control this warning, see the rcParam `figure.max_open_warning`).\n",
      "  f = plt.figure(figsize=(tuple(k * i for i in (per_row, rows))))\n"
     ]
    },
    {
     "data": {
      "text/plain": [
       "[<AxesSubplot:title={'center':'Fe_Ka at 6.40 keV'}>,\n",
       " <AxesSubplot:title={'center':'Pt_La at 9.44 keV'}>]"
      ]
     },
     "execution_count": 40,
     "metadata": {},
     "output_type": "execute_result"
    }
   ],
   "source": [
    "#All the intensity maps can be plotted using:\n",
    "hs.plot.plot_images(cs_intensities, cmap='viridis', axes_decor=None, scalebar='all', colorbar='single')"
   ]
  },
  {
   "cell_type": "markdown",
   "metadata": {},
   "source": [
    "Once you're happy with what you're doing, plotting and extracting intensity for both data sets can be condensed into one line.\n",
    "\n",
    "**Note: because we specfically defined out background subtraction and integration windows these are now exactly the same for both datasets. Very important for comparison.**"
   ]
  },
  {
   "cell_type": "code",
   "execution_count": 41,
   "metadata": {},
   "outputs": [],
   "source": [
    "axes = hs.plot.plot_images((c.get_lines_intensity(background_windows=bw, integration_windows=iw)\n",
    "                                          + cs.get_lines_intensity(background_windows=bw, integration_windows=iw)),\n",
    "                           scalebar='all', axes_decor=None, per_row=2, cmap='viridis')"
   ]
  },
  {
   "cell_type": "markdown",
   "metadata": {},
   "source": [
    "## <a id='#quant'></a> 4. Quantification of count maps\n",
    "\n",
    "<a href='#top'> Table of contents</a>"
   ]
  },
  {
   "cell_type": "markdown",
   "metadata": {},
   "source": [
    "Hyperspy is able to carry out EDX quantification using k-factors 'CL', zeta-factors 'zeta', or cross_sections 'cross_sections'. \n",
    "\n",
    "All these methods are applied in the same way using the combination of the stack of intensities and and original data."
   ]
  },
  {
   "cell_type": "markdown",
   "metadata": {},
   "source": [
    "For 'zeta' or 'cross_section' quantification both a 'live_time' and a 'beam_current' should be in the metadata."
   ]
  },
  {
   "cell_type": "code",
   "execution_count": 42,
   "metadata": {},
   "outputs": [],
   "source": [
    "#Setting these parameters in the metadata.\n",
    "cs.set_microscope_parameters(beam_current=0.5, live_time= 6.15) #in seconds\n",
    " #in nA"
   ]
  },
  {
   "cell_type": "code",
   "execution_count": 45,
   "metadata": {},
   "outputs": [],
   "source": [
    "#From Brucker software (Esprit) k-factors\n",
    "factors = [1.450226, 5.75602]"
   ]
  },
  {
   "cell_type": "code",
   "execution_count": 46,
   "metadata": {},
   "outputs": [
    {
     "name": "stdout",
     "output_type": "stream",
     "text": [
      "[########################################] | 100% Completed |  6.5s\n"
     ]
    },
    {
     "name": "stderr",
     "output_type": "stream",
     "text": [
      "/Users/macark/Documents/Git/hyperspy/hyperspy/misc/material.py:61: RuntimeWarning: invalid value encountered in true_divide\n",
      "  atomic_percent[i] /= sum_weight\n"
     ]
    }
   ],
   "source": [
    "quant = cs.quantification(cs_intensities, method='CL', factors=factors)"
   ]
  },
  {
   "cell_type": "code",
   "execution_count": 47,
   "metadata": {},
   "outputs": [
    {
     "data": {
      "text/plain": [
       "[<BaseSignal, title: atomic percent of Fe, dimensions: (32, 32|)>,\n",
       " <BaseSignal, title: atomic percent of Pt, dimensions: (32, 32|)>]"
      ]
     },
     "execution_count": 47,
     "metadata": {},
     "output_type": "execute_result"
    }
   ],
   "source": [
    "quant"
   ]
  },
  {
   "cell_type": "markdown",
   "metadata": {},
   "source": [
    "Again as with the intensities the quantification function result produces a list of images with atomic percent of each element (at least in the 'CL' case). \n",
    "\n",
    "In the 'zeta' and 'cross_section' methods more information is outputed from quantification. See http://hyperspy.org/hyperspy-doc/current/user_guide/eds.html#eds-quantification for more details."
   ]
  },
  {
   "cell_type": "markdown",
   "metadata": {},
   "source": [
    "Alternatively, if the factors are treated as cross_sections then the output result contains two lists of images, the first is a list of atomic *percent* maps (Index [0]) the second is a list of atomic *number* maps (Index [1]). This allows us to 'zero-out' regions of the image with too few counts."
   ]
  },
  {
   "cell_type": "markdown",
   "metadata": {},
   "source": [
    "*Please note these values aren't accurate cross_sections but can be used as such for the purpose of this demo.*"
   ]
  },
  {
   "cell_type": "markdown",
   "metadata": {},
   "source": [
    "Ignore the warning produced, in this case we want to use a 1nm$^2$ probe size. As long as the pixel scale is calibrated in your spectrum image, probe size is taken as the pixel unless otherwise specified using s.set_microscope_parameters(probe_area = ?)."
   ]
  },
  {
   "cell_type": "code",
   "execution_count": 61,
   "metadata": {},
   "outputs": [
    {
     "name": "stderr",
     "output_type": "stream",
     "text": [
      "/Users/macark/Documents/Git/hyperspy/hyperspy/_signals/eds_tem.py:807: UserWarning: Please note that the probe area has been calculated to be 1 nm², meaning that it is highly likley that the scale of the navigation axes have not been set correctly. Please read the user guide for how to set this.\n",
      "  warnings.warn(\"Please note that the probe area has been \"\n",
      "/Users/macark/Documents/Git/hyperspy/hyperspy/_signals/eds_tem.py:807: UserWarning: Please note that the probe area has been calculated to be 1 nm², meaning that it is highly likley that the scale of the navigation axes have not been set correctly. Please read the user guide for how to set this.\n",
      "  warnings.warn(\"Please note that the probe area has been \"\n",
      "/Users/macark/Documents/Git/hyperspy/hyperspy/misc/eds/utils.py:629: RuntimeWarning: invalid value encountered in true_divide\n",
      "  composition = number_of_atoms / total_atoms\n"
     ]
    }
   ],
   "source": [
    "factors = [5., 14.]\n",
    "quant = cs.quantification(cs_intensities, method='cross_section', factors=factors)"
   ]
  },
  {
   "cell_type": "code",
   "execution_count": 62,
   "metadata": {},
   "outputs": [
    {
     "data": {
      "text/plain": [
       "([<BaseSignal, title: atomic percent of Fe, dimensions: (32, 32|)>,\n",
       "  <BaseSignal, title: atomic percent of Pt, dimensions: (32, 32|)>],\n",
       " [<BaseSignal, title: atom counts of Fe, dimensions: (32, 32|)>,\n",
       "  <BaseSignal, title: atom counts of Pt, dimensions: (32, 32|)>])"
      ]
     },
     "execution_count": 62,
     "metadata": {},
     "output_type": "execute_result"
    }
   ],
   "source": [
    "quant"
   ]
  },
  {
   "cell_type": "markdown",
   "metadata": {},
   "source": [
    "Summing all the images containing numbers of atoms (quant[1]) gives us an image mapping out the total number of estimated atoms in the sample."
   ]
  },
  {
   "cell_type": "code",
   "execution_count": 63,
   "metadata": {},
   "outputs": [],
   "source": [
    "No_of_atoms = quant[1][0] + quant[1][1]\n",
    "No_of_atoms.plot()"
   ]
  },
  {
   "cell_type": "markdown",
   "metadata": {},
   "source": [
    "This 'total number of atoms' image can be used to make a mask and 'zero-out' any region of the image where the total counts equate to less than 1 atom count. This could also be done on an element by element basis instead."
   ]
  },
  {
   "cell_type": "code",
   "execution_count": 64,
   "metadata": {},
   "outputs": [
    {
     "data": {
      "text/plain": [
       "[<AxesSubplot:title={'center':'Fe'}, xlabel='x axis (nm)', ylabel='y axis (nm)'>,\n",
       " <AxesSubplot:title={'center':'Pt'}, xlabel='x axis (nm)', ylabel='y axis (nm)'>]"
      ]
     },
     "execution_count": 64,
     "metadata": {},
     "output_type": "execute_result"
    }
   ],
   "source": [
    "Mask = No_of_atoms > 1.\n",
    "hs.plot.plot_images([Mask*quant[0][0], Mask*quant[0][1]], scalebar ='all', cmap='viridis',\n",
    "                   label=['Fe', 'Pt'], axes_decor='off', vmin=0, vmax=100)"
   ]
  },
  {
   "cell_type": "markdown",
   "metadata": {},
   "source": [
    "## <a id='bss'></a> 5. Blind source separation of core/shell nanoparticles"
   ]
  },
  {
   "cell_type": "markdown",
   "metadata": {},
   "source": [
    "<a href='#top'> Table of contents</a>"
   ]
  },
  {
   "cell_type": "markdown",
   "metadata": {},
   "source": [
    "Apply blind source separation (ICA) to obtain a factor (spectrum) corresponding to the core."
   ]
  },
  {
   "cell_type": "code",
   "execution_count": null,
   "metadata": {},
   "outputs": [],
   "source": [
    "cs."
   ]
  },
  {
   "cell_type": "code",
   "execution_count": null,
   "metadata": {},
   "outputs": [],
   "source": []
  },
  {
   "cell_type": "markdown",
   "metadata": {},
   "source": [
    "ICA on the three first components."
   ]
  },
  {
   "cell_type": "code",
   "execution_count": null,
   "metadata": {},
   "outputs": [],
   "source": []
  },
  {
   "cell_type": "code",
   "execution_count": null,
   "metadata": {},
   "outputs": [],
   "source": []
  },
  {
   "cell_type": "code",
   "execution_count": null,
   "metadata": {},
   "outputs": [],
   "source": []
  },
  {
   "cell_type": "markdown",
   "metadata": {},
   "source": [
    "The first component corresponds to the core."
   ]
  },
  {
   "cell_type": "code",
   "execution_count": null,
   "metadata": {},
   "outputs": [],
   "source": []
  },
  {
   "cell_type": "markdown",
   "metadata": {},
   "source": [
    "## <a id='bare'></a> 6. Representative spectrum from bare cores"
   ]
  },
  {
   "cell_type": "markdown",
   "metadata": {},
   "source": [
    "<a href='#top'> Table of contents</a>"
   ]
  },
  {
   "cell_type": "markdown",
   "metadata": {},
   "source": [
    "To obtain an integrated representative spectrum of the bare nanoparticles, the low intensity of Pt L$_{\\alpha}$ is masked."
   ]
  },
  {
   "cell_type": "code",
   "execution_count": null,
   "metadata": {},
   "outputs": [],
   "source": []
  },
  {
   "cell_type": "code",
   "execution_count": null,
   "metadata": {},
   "outputs": [],
   "source": [
    "axes = hs.plot.plot_images((mask, pt_la * mask), axes_decor=None, colorbar=None,\n",
    "                           label=['Mask', 'Pt Lα intensity'], cmap='viridis')"
   ]
  },
  {
   "cell_type": "markdown",
   "metadata": {},
   "source": [
    "To apply the mask, the navigation dimensions of the mask must be manipulated to match the navigation dimensions of the EDS spectrum image. This is achieved crudely via first generating a mask using the built in vacuum_mask() method and then overwriting the data with the mask generated above."
   ]
  },
  {
   "cell_type": "code",
   "execution_count": null,
   "metadata": {},
   "outputs": [],
   "source": []
  },
  {
   "cell_type": "markdown",
   "metadata": {},
   "source": [
    "The sum over the particles is used as a bare core spectrum."
   ]
  },
  {
   "cell_type": "code",
   "execution_count": null,
   "metadata": {},
   "outputs": [],
   "source": []
  },
  {
   "cell_type": "markdown",
   "metadata": {},
   "source": [
    "## <a id='com'></a> 7. Model fitting and quantification"
   ]
  },
  {
   "cell_type": "markdown",
   "metadata": {},
   "source": [
    "<a href='#top'> Table of contents</a>"
   ]
  },
  {
   "cell_type": "markdown",
   "metadata": {},
   "source": [
    "With a greater signal to noise ratio from integrating the spectrum curve fitting now beceoms possible as a method of intensity extraction. \n",
    "\n",
    "First we stack together the spectrum of bare particles and the first ICA component."
   ]
  },
  {
   "cell_type": "code",
   "execution_count": null,
   "metadata": {},
   "outputs": [],
   "source": [
    "s_bare.change_dtype('float')\n",
    "s = hs.stack([s_bare, s_bss], new_axis_name='Bare or BSS')\n",
    "s.metadata.General.title = 'Bare or BSS'"
   ]
  },
  {
   "cell_type": "code",
   "execution_count": null,
   "metadata": {},
   "outputs": [],
   "source": [
    "axes = hs.plot.plot_spectra(s, style='mosaic', legend=['Bare particles', 'BSS #0'])"
   ]
  },
  {
   "cell_type": "markdown",
   "metadata": {},
   "source": [
    "### Method 1 - Window extraction\n",
    "\n",
    "X-ray intensities measurement with background subtraction, using the windows created earlier."
   ]
  },
  {
   "cell_type": "code",
   "execution_count": null,
   "metadata": {},
   "outputs": [],
   "source": []
  },
  {
   "cell_type": "code",
   "execution_count": null,
   "metadata": {},
   "outputs": [],
   "source": []
  },
  {
   "cell_type": "code",
   "execution_count": null,
   "metadata": {},
   "outputs": [],
   "source": [
    "print('Bare core Fe_Kα/Pt_Lα ratio: \\t{:.2f}'.format(list(sI[0].inav[0].data / sI[1].inav[0].data)[0]))\n",
    "print('BSS Fe_Kα/Pt_Lα ratio: \\t\\t{:.2f}'.format(list(sI[0].inav[1].data / sI[1].inav[1].data)[0]))"
   ]
  },
  {
   "cell_type": "markdown",
   "metadata": {},
   "source": [
    "### Method 2 - Model fitting\n",
    "\n",
    "Measure X-ray intensity by fitting a Gaussian model"
   ]
  },
  {
   "cell_type": "code",
   "execution_count": null,
   "metadata": {},
   "outputs": [],
   "source": [
    "#Removing the low energy part of the spectrum as this is not a region we're interested in.\n"
   ]
  },
  {
   "cell_type": "code",
   "execution_count": null,
   "metadata": {},
   "outputs": [],
   "source": [
    "#These lines needed to be added to the model because they are not in the metadata. \n",
    "#In this way they are included in the curve fitting but not in the final quantification.\n"
   ]
  },
  {
   "cell_type": "code",
   "execution_count": null,
   "metadata": {},
   "outputs": [],
   "source": []
  },
  {
   "cell_type": "code",
   "execution_count": null,
   "metadata": {},
   "outputs": [],
   "source": []
  },
  {
   "cell_type": "code",
   "execution_count": null,
   "metadata": {},
   "outputs": [],
   "source": []
  },
  {
   "cell_type": "code",
   "execution_count": null,
   "metadata": {},
   "outputs": [],
   "source": []
  },
  {
   "cell_type": "code",
   "execution_count": null,
   "metadata": {},
   "outputs": [],
   "source": []
  },
  {
   "cell_type": "code",
   "execution_count": null,
   "metadata": {},
   "outputs": [],
   "source": []
  },
  {
   "cell_type": "code",
   "execution_count": null,
   "metadata": {},
   "outputs": [],
   "source": []
  },
  {
   "cell_type": "markdown",
   "metadata": {},
   "source": [
    "Set up the kfactors for Fe K$_{\\alpha}$ and Pt L$_{\\alpha}$."
   ]
  },
  {
   "cell_type": "code",
   "execution_count": null,
   "metadata": {},
   "outputs": [],
   "source": [
    "#From Brucker software (Esprit)\n",
    "kfactors = [1.450226, 5.075602]"
   ]
  },
  {
   "cell_type": "markdown",
   "metadata": {},
   "source": [
    "Quantify with Cliff Lorimer."
   ]
  },
  {
   "cell_type": "code",
   "execution_count": null,
   "metadata": {},
   "outputs": [],
   "source": []
  },
  {
   "cell_type": "code",
   "execution_count": null,
   "metadata": {},
   "outputs": [],
   "source": [
    "print('             |-----------------------------|')\n",
    "print('             |     Atomic compositions     |')\n",
    "print('             |-----------------------------|')\n",
    "\n",
    "print(' \\t     |  Bare core  |   BSS Signal  |')\n",
    "print('|------------|-------------|---------------|')\n",
    "print('| Fe (at. %) |    {:.2f}    |     {:.2f}     |'.format(composition[0].data[0], composition[0].data[1]))\n",
    "print('| Pt (at. %) |    {:.2f}    |     {:.2f}     |'.format(composition[1].data[0], composition[1].data[1]))\n",
    "print('|------------|-------------|---------------|')"
   ]
  },
  {
   "cell_type": "markdown",
   "metadata": {},
   "source": [
    "## <a id='fur'></a> 6. Going further"
   ]
  },
  {
   "cell_type": "markdown",
   "metadata": {},
   "source": [
    "<a href='#top'> Table of contents</a>"
   ]
  },
  {
   "cell_type": "markdown",
   "metadata": {},
   "source": [
    "Further image processing with [scikit-image](http://scikit-image.org/) and [scipy](http://www.scipy.org/). Apply a watershed transformation to isolate the nanoparticles."
   ]
  },
  {
   "cell_type": "markdown",
   "metadata": {},
   "source": [
    "- Transform the mask into a distance map.\n",
    "- Find local maxima.\n",
    "- Apply the watershed to the distance map using the local maximum as seed (markers).\n",
    "\n",
    "Adapted from this scikit-image [example](http://scikit-image.org/docs/dev/auto_examples/plot_watershed.html)."
   ]
  },
  {
   "cell_type": "code",
   "execution_count": null,
   "metadata": {},
   "outputs": [],
   "source": [
    "from scipy.ndimage import distance_transform_edt, label\n",
    "from skimage.morphology import watershed\n",
    "from skimage.feature import peak_local_max"
   ]
  },
  {
   "cell_type": "code",
   "execution_count": null,
   "metadata": {},
   "outputs": [],
   "source": [
    "distance = distance_transform_edt(mask.data)\n",
    "local_maxi = peak_local_max(distance, indices=False,\n",
    "                            min_distance=2, labels=mask.data)\n",
    "labels = watershed(-distance, markers=label(local_maxi)[0],\n",
    "                   mask=mask.data)"
   ]
  },
  {
   "cell_type": "code",
   "execution_count": null,
   "metadata": {},
   "outputs": [],
   "source": [
    "axes = hs.plot.plot_images(\n",
    "    [pt_la.T, mask.T, hs.signals.Signal2D(distance), hs.signals.Signal2D(labels)],\n",
    "    axes_decor='off', per_row=2, colorbar=None, cmap=['viridis','tab20'],\n",
    "    label=['Pt Lα intensity', 'Mask',\n",
    "           'Distances', 'Separated particles'])"
   ]
  }
 ],
 "metadata": {
  "anaconda-cloud": {},
  "kernelspec": {
   "display_name": "Python 3",
   "language": "python",
   "name": "python3"
  },
  "language_info": {
   "codemirror_mode": {
    "name": "ipython",
    "version": 3
   },
   "file_extension": ".py",
   "mimetype": "text/x-python",
   "name": "python",
   "nbconvert_exporter": "python",
   "pygments_lexer": "ipython3",
   "version": "3.7.4"
  },
  "widgets": {
   "application/vnd.jupyter.widget-state+json": {
    "state": {
     "00cba520fba44e8b8aff67cc4cc8df96": {
      "model_module": "jupyter-js-widgets",
      "model_module_version": "~2.1.4",
      "model_name": "LabelModel",
      "state": {
       "_model_module_version": "~2.1.4",
       "_view_module_version": "~2.1.4",
       "disabled": true,
       "layout": "IPY_MODEL_cbc72a976a784078b6d2b83f0470632d"
      }
     },
     "0fc57571dd6c4a018297a70b2542752b": {
      "model_module": "jupyter-js-widgets",
      "model_module_version": "~2.1.4",
      "model_name": "IntSliderModel",
      "state": {
       "_model_module_version": "~2.1.4",
       "_view_module_version": "~2.1.4",
       "description": "index",
       "layout": "IPY_MODEL_86a46aaa88e044b4979f85d70097ad32",
       "max": 1,
       "style": "IPY_MODEL_c362d1c08eef4831ab43c7509f770861",
       "value": 1
      }
     },
     "19b521e12d69469d8d4e0c780d30e276": {
      "model_module": "jupyter-js-widgets",
      "model_module_version": "~2.1.4",
      "model_name": "LayoutModel",
      "state": {
       "_model_module_version": "~2.1.4",
       "_view_module_version": "~2.1.4",
       "display": "flex",
       "flex_flow": "row",
       "justify_content": "space-between"
      }
     },
     "25bc44f15c134063af9b6e6468d5cfb0": {
      "model_module": "jupyter-js-widgets",
      "model_module_version": "~2.1.4",
      "model_name": "CheckboxModel",
      "state": {
       "_model_module_version": "~2.1.4",
       "_view_module_version": "~2.1.4",
       "description": "Continous update",
       "disabled": false,
       "layout": "IPY_MODEL_e669ffd1c5be471e9deefa5809267169",
       "value": true
      }
     },
     "26081e9ea06540fd9f6d0d8c0397283b": {
      "model_module": "jupyter-js-widgets",
      "model_module_version": "~2.1.4",
      "model_name": "LayoutModel",
      "state": {
       "_model_module_version": "~2.1.4",
       "_view_module_version": "~2.1.4"
      }
     },
     "3a9d69275c204f7cbe2d3949d3ae78c6": {
      "model_module": "jupyter-js-widgets",
      "model_module_version": "~2.1.4",
      "model_name": "VBoxModel",
      "state": {
       "_model_module_version": "~2.1.4",
       "_view_module_version": "~2.1.4",
       "children": [
        "IPY_MODEL_9c905befed534b95acf2c4cf7efdd7bf",
        "IPY_MODEL_25bc44f15c134063af9b6e6468d5cfb0"
       ],
       "layout": "IPY_MODEL_f58d7a1edfe2466db9c8d091e80e1795"
      }
     },
     "3d9f6ee4cac2449ebd64250ea8de54aa": {
      "model_module": "jupyter-js-widgets",
      "model_module_version": "~2.1.4",
      "model_name": "LayoutModel",
      "state": {
       "_model_module_version": "~2.1.4",
       "_view_module_version": "~2.1.4"
      }
     },
     "56b34ef901d64361a1325c6bc59771e4": {
      "model_module": "jupyter-js-widgets",
      "model_module_version": "~2.1.4",
      "model_name": "LabelModel",
      "state": {
       "_model_module_version": "~2.1.4",
       "_view_module_version": "~2.1.4",
       "layout": "IPY_MODEL_fc549aa8931c452096bd07da6ae82231",
       "value": "Bare or BSS"
      }
     },
     "86a46aaa88e044b4979f85d70097ad32": {
      "model_module": "jupyter-js-widgets",
      "model_module_version": "~2.1.4",
      "model_name": "LayoutModel",
      "state": {
       "_model_module_version": "~2.1.4",
       "_view_module_version": "~2.1.4"
      }
     },
     "9c905befed534b95acf2c4cf7efdd7bf": {
      "model_module": "jupyter-js-widgets",
      "model_module_version": "~2.1.4",
      "model_name": "HBoxModel",
      "state": {
       "_model_module_version": "~2.1.4",
       "_view_module_version": "~2.1.4",
       "children": [
        "IPY_MODEL_56b34ef901d64361a1325c6bc59771e4",
        "IPY_MODEL_0fc57571dd6c4a018297a70b2542752b",
        "IPY_MODEL_aa153f962c2c4da5aaa4ed65cf0a95e3",
        "IPY_MODEL_00cba520fba44e8b8aff67cc4cc8df96"
       ],
       "layout": "IPY_MODEL_3d9f6ee4cac2449ebd64250ea8de54aa"
      }
     },
     "aa153f962c2c4da5aaa4ed65cf0a95e3": {
      "model_module": "jupyter-js-widgets",
      "model_module_version": "~2.1.4",
      "model_name": "FloatTextModel",
      "state": {
       "_model_module_version": "~2.1.4",
       "_view_module_version": "~2.1.4",
       "description": "value",
       "layout": "IPY_MODEL_26081e9ea06540fd9f6d0d8c0397283b",
       "max": 1,
       "min": 0,
       "step": 1,
       "value": 1
      }
     },
     "c362d1c08eef4831ab43c7509f770861": {
      "model_module": "jupyter-js-widgets",
      "model_module_version": "~2.1.4",
      "model_name": "SliderStyleModel",
      "state": {
       "_model_module_version": "~2.1.4",
       "_view_module_version": "~2.1.4"
      }
     },
     "cbc72a976a784078b6d2b83f0470632d": {
      "model_module": "jupyter-js-widgets",
      "model_module_version": "~2.1.4",
      "model_name": "LayoutModel",
      "state": {
       "_model_module_version": "~2.1.4",
       "_view_module_version": "~2.1.4",
       "width": "5%"
      }
     },
     "e669ffd1c5be471e9deefa5809267169": {
      "model_module": "jupyter-js-widgets",
      "model_module_version": "~2.1.4",
      "model_name": "LayoutModel",
      "state": {
       "_model_module_version": "~2.1.4",
       "_view_module_version": "~2.1.4"
      }
     },
     "f58d7a1edfe2466db9c8d091e80e1795": {
      "model_module": "jupyter-js-widgets",
      "model_module_version": "~2.1.4",
      "model_name": "LayoutModel",
      "state": {
       "_model_module_version": "~2.1.4",
       "_view_module_version": "~2.1.4"
      }
     },
     "fc549aa8931c452096bd07da6ae82231": {
      "model_module": "jupyter-js-widgets",
      "model_module_version": "~2.1.4",
      "model_name": "LayoutModel",
      "state": {
       "_model_module_version": "~2.1.4",
       "_view_module_version": "~2.1.4",
       "width": "15%"
      }
     }
    },
    "version_major": 1,
    "version_minor": 0
   }
  }
 },
 "nbformat": 4,
 "nbformat_minor": 1
}
