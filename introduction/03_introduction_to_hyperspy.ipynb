{
 "cells": [
  {
   "cell_type": "markdown",
   "id": "a07b6520-b3c2-44ac-9bf1-9be827764190",
   "metadata": {},
   "source": [
    "# Introduction to HyperSpy\n",
    "\n",
    "This notebook gives an introduction the python package `HyperSpy`, which is focused on analysing multidimensional data, especially electron microscopy.\n",
    "\n",
    "First, we need to set the plotting backend."
   ]
  },
  {
   "cell_type": "code",
   "execution_count": null,
   "id": "330a2066-8158-42c1-bbbe-aea92f714d8f",
   "metadata": {},
   "outputs": [],
   "source": []
  },
  {
   "cell_type": "markdown",
   "id": "2d820cdb-5165-450b-8398-c196f97aefa8",
   "metadata": {},
   "source": [
    "Then import `hyperspy`, specifically the `api`\n",
    "\n",
    "Note that we'll get some `WARNINGS` related to the GUI, these are due to the plotting backend we've chosen."
   ]
  },
  {
   "cell_type": "code",
   "execution_count": null,
   "id": "450f5611-7c14-46ec-97d4-29f869aaee4c",
   "metadata": {},
   "outputs": [],
   "source": []
  },
  {
   "cell_type": "markdown",
   "id": "4028baa3-e2a4-40c0-adc6-bd8a831410c3",
   "metadata": {},
   "source": [
    "Similarly to `numpy`, `HyperSpy` has a number of functions. The most important one being `load`, which can open a large number of file formats, including many of the common electron microscopy ones: `tiff`, `dm3`, `dm4`, `emi/ser`, FEI's `emd`, ... To get a full list, see the docstring in `load`\n",
    "\n",
    "Lets use this function to open the file `data/adf_image.dm3`, and assign it to the value `s`."
   ]
  },
  {
   "cell_type": "code",
   "execution_count": null,
   "id": "bbdf4518-58b6-4b62-8218-b3256407260d",
   "metadata": {},
   "outputs": [],
   "source": []
  },
  {
   "cell_type": "markdown",
   "id": "70ae7650-cae6-4d77-83dc-7bfdd71505fd",
   "metadata": {},
   "source": [
    "First, lets see what this variable `s` is."
   ]
  },
  {
   "cell_type": "code",
   "execution_count": null,
   "id": "023a3510-fa07-417b-8e73-b9780f427089",
   "metadata": {},
   "outputs": [],
   "source": []
  },
  {
   "cell_type": "markdown",
   "id": "7ad0a19e-cec9-4a30-8228-728fa058583a",
   "metadata": {},
   "source": [
    "Here, we see some key information about the file we just loaded. For example that it has 1024 x 1024 pixels, and is a `Signal2D`.\n",
    "\n",
    "This `Signal2D` has several useful functions, or methods. One of these is `plot`, which visualizes the data.\n",
    "\n",
    "Try plotting, and notice that the plot has the same interactive controls as the `matplotlib` `plot` function."
   ]
  },
  {
   "cell_type": "code",
   "execution_count": null,
   "id": "21dd65eb-188b-462c-bf89-6fe976f969f3",
   "metadata": {},
   "outputs": [],
   "source": []
  },
  {
   "cell_type": "markdown",
   "id": "6355f6de-c497-4e5e-a859-5cb582aac5c9",
   "metadata": {},
   "source": [
    "## Tuning brightness and contrast"
   ]
  },
  {
   "cell_type": "markdown",
   "id": "df741cad-9fc3-49b6-afe9-027f2ebe1c9f",
   "metadata": {},
   "source": [
    "The brightness and contrast can be selecting the plotting window, then pressing the \"H\" button on the keyboard (note, this is only for the `qt5` backend).\n",
    "\n",
    "Here, both the brightness/contrast and the plotting \"norm\" can be set."
   ]
  },
  {
   "cell_type": "markdown",
   "id": "1ff66669-f4aa-4111-b344-519da6f04d23",
   "metadata": {},
   "source": [
    "`plot` also has a great deal of functionality, which we can see in the docstring."
   ]
  },
  {
   "cell_type": "code",
   "execution_count": null,
   "id": "1c0ef835-5ed0-4f52-8784-1517292d66b8",
   "metadata": {},
   "outputs": [],
   "source": []
  },
  {
   "cell_type": "markdown",
   "id": "a3a6ed39-e2c5-422d-976a-55b14815c1c6",
   "metadata": {},
   "source": [
    "One example of this is the `cmap` argument, which changes the color map"
   ]
  },
  {
   "cell_type": "code",
   "execution_count": null,
   "id": "e34c9265-4bad-4db3-8abf-69c1da2f27cc",
   "metadata": {},
   "outputs": [],
   "source": []
  },
  {
   "cell_type": "markdown",
   "id": "7a64ab13-6342-4b68-8738-85f6b5f44989",
   "metadata": {},
   "source": [
    "## Signal types"
   ]
  },
  {
   "cell_type": "markdown",
   "id": "d3ad4c73-cf66-4b41-a009-9cc12e2b51b2",
   "metadata": {},
   "source": [
    "In addition to the `Signal2D` signal type we've been working with this far, there are several different signal types: `Signal1D`, `EELSSpectrum`, `EDSTEMSpectrum`, `EDSSEMSpectrum`, `HologramImage` and more. When you use the `load` function, `HyperSpy` will try to get guess which type of signal the file is. For example, loading the file `data/EELS_spectrum.hspy`:\n"
   ]
  },
  {
   "cell_type": "code",
   "execution_count": null,
   "id": "f168865c-8563-4a06-a3c1-abb44b7303a8",
   "metadata": {},
   "outputs": [],
   "source": []
  },
  {
   "cell_type": "code",
   "execution_count": null,
   "id": "4ad637e3-3f32-4e25-9178-14a02352ab4f",
   "metadata": {},
   "outputs": [],
   "source": []
  },
  {
   "cell_type": "markdown",
   "id": "024abd24-e5fd-4534-94bc-8d2f9d96eeda",
   "metadata": {},
   "source": [
    "Here, we see that the signal is an `EELSSpectrum`, and plotting it, we see that the visualization is tailored for looking at EELS data."
   ]
  },
  {
   "cell_type": "code",
   "execution_count": null,
   "id": "9dae29b6-7f3e-42f8-9678-71a6ffa04f5e",
   "metadata": {},
   "outputs": [],
   "source": []
  },
  {
   "cell_type": "markdown",
   "id": "1dba2114-9812-4aa0-82f3-f4dc4f79e096",
   "metadata": {},
   "source": [
    "In addition, this signal has lots of functions relevant for EELS signals. Which will have a look at tomorrow.\n",
    "\n",
    "To get a full list of all the different signals, use the `hs.print_known_signal_types()` function"
   ]
  },
  {
   "cell_type": "code",
   "execution_count": null,
   "id": "eb23a95e-1e52-463f-b9dc-4830b81966aa",
   "metadata": {
    "tags": []
   },
   "outputs": [],
   "source": []
  },
  {
   "cell_type": "markdown",
   "id": "c29ee2d9-6a7a-460f-8505-f4429c44b1cc",
   "metadata": {},
   "source": [
    "## Axes manager"
   ]
  },
  {
   "cell_type": "markdown",
   "id": "ccf89ceb-a1b9-4bfa-8d8e-686171c69bbd",
   "metadata": {},
   "source": [
    "Another important aspect of data, is the calibration and scaling for the different dimensions.\n",
    "\n",
    "All information about this is kept in the `axes_manager` object."
   ]
  },
  {
   "cell_type": "code",
   "execution_count": null,
   "id": "6931b1a2-4b85-403d-b3f6-94294ca59ece",
   "metadata": {},
   "outputs": [],
   "source": []
  },
  {
   "cell_type": "markdown",
   "id": "e8dc5673-ea5a-4c15-bbed-672e5e8f5ee2",
   "metadata": {},
   "source": [
    "This can changed in the `s.axes_manager.gui()`"
   ]
  },
  {
   "cell_type": "code",
   "execution_count": null,
   "id": "a59e1eef-2dfd-41eb-8916-2e15d166236b",
   "metadata": {},
   "outputs": [],
   "source": []
  },
  {
   "cell_type": "markdown",
   "id": "5c1a0d67-86f7-428e-a033-56ffb522237c",
   "metadata": {},
   "source": [
    "Here, we can change scale, units and offset.\n",
    "\n",
    "This can also be changed programmatically, by accessing the `axes_manager` object directly."
   ]
  },
  {
   "cell_type": "code",
   "execution_count": null,
   "id": "17830159-f253-468a-9a5e-bb55c8e57856",
   "metadata": {},
   "outputs": [],
   "source": [
    "\n",
    "\n",
    "\n",
    "\n",
    "\n",
    "\n"
   ]
  },
  {
   "cell_type": "markdown",
   "id": "455584c4-da3b-4ab6-bdd4-99dc90298339",
   "metadata": {},
   "source": [
    "Now we can see that the scaling is different for the x- and y-axis, which we can see with `s.plot()`."
   ]
  },
  {
   "cell_type": "code",
   "execution_count": null,
   "id": "ba805830-17bc-4095-8b6f-0e195003bc7c",
   "metadata": {},
   "outputs": [],
   "source": []
  },
  {
   "cell_type": "markdown",
   "id": "61474a1a-e00f-403b-8188-cef18905ed17",
   "metadata": {},
   "source": [
    "Lets reload the dataset, to \"fix\" the scaling here."
   ]
  },
  {
   "cell_type": "code",
   "execution_count": null,
   "id": "9752afd3-8815-4c3d-b83c-62d00e3aad5f",
   "metadata": {},
   "outputs": [],
   "source": []
  },
  {
   "cell_type": "markdown",
   "id": "ba9fa0df-b6e2-4a3b-8428-58e59dd22488",
   "metadata": {},
   "source": [
    "## Slicing: inav and isig"
   ]
  },
  {
   "cell_type": "markdown",
   "id": "1d33ecae-095b-439d-9c30-1449bd0fcb87",
   "metadata": {},
   "source": [
    "HyperSpy has extensive support for slicing, which essentially means cropping the data along one or several dimensions. \n",
    "\n",
    "The main functions are `s.inav` and `s.isig`:\n",
    "\n",
    "- `inav` slices in the navigation dimension\n",
    "- `isig` slices in the signal dimension\n",
    "\n",
    "If integers are used, it will slice in based on index. If decimal numbers are used, it will slice based on the scaling.\n",
    "\n",
    "Lets get a sub-region of the atomic resolution image."
   ]
  },
  {
   "cell_type": "code",
   "execution_count": null,
   "id": "6188fd11-b8bc-4f6c-9134-2274c18e3c93",
   "metadata": {},
   "outputs": [],
   "source": []
  },
  {
   "cell_type": "code",
   "execution_count": null,
   "id": "6ce69129-4f5c-4709-8d0e-edb44c2f50f4",
   "metadata": {},
   "outputs": [],
   "source": [
    "\n"
   ]
  },
  {
   "cell_type": "markdown",
   "id": "e8463e8a-647f-437e-94d2-57fe714cd4e7",
   "metadata": {},
   "source": [
    "An important thing to keep in mind is that the sliced signal `s_crop` uses the same data as `s`, so changing `s_crop` will also change `s`"
   ]
  },
  {
   "cell_type": "code",
   "execution_count": null,
   "id": "e224e275-778a-407e-a61b-d5e76060a7e4",
   "metadata": {},
   "outputs": [],
   "source": [
    "\n"
   ]
  },
  {
   "cell_type": "markdown",
   "id": "8f6a6303-e77b-4d86-97e4-b8434bec7a7b",
   "metadata": {},
   "source": [
    "If want want to get a new copy of the signal, use `s.deepcopy()`."
   ]
  },
  {
   "cell_type": "code",
   "execution_count": null,
   "id": "921f528d-8843-480a-8e59-ca863b3f050b",
   "metadata": {},
   "outputs": [],
   "source": []
  },
  {
   "cell_type": "markdown",
   "id": "c6a44930-7053-458b-a6d9-34d3d18dcd61",
   "metadata": {},
   "source": [
    "## Using region of interests"
   ]
  },
  {
   "cell_type": "markdown",
   "id": "b3371c9c-e43c-409b-8b9c-dc2a63392d1f",
   "metadata": {},
   "source": [
    "Region of interests can be used to extract subsets of a signal"
   ]
  },
  {
   "cell_type": "code",
   "execution_count": null,
   "id": "608cf7b9-f662-4e0d-bf8f-5c4bc1e9ae8d",
   "metadata": {},
   "outputs": [],
   "source": [
    "\n",
    "\n",
    "\n"
   ]
  },
  {
   "cell_type": "markdown",
   "id": "c0c10b8a-f5f4-42a8-a564-64df3920dd83",
   "metadata": {},
   "source": [
    "This can also be used to crop images"
   ]
  },
  {
   "cell_type": "code",
   "execution_count": null,
   "id": "52eb5ff5-a2e0-45f2-9f0b-298434e09464",
   "metadata": {},
   "outputs": [],
   "source": [
    "\n",
    "\n"
   ]
  },
  {
   "cell_type": "code",
   "execution_count": null,
   "id": "61a7c1c5-cfbc-45d0-ad54-3e02d7710bca",
   "metadata": {},
   "outputs": [],
   "source": []
  },
  {
   "cell_type": "markdown",
   "id": "812c22c1-df9a-4afe-9f49-6f79b10c0c8d",
   "metadata": {},
   "source": [
    "## Image stacks"
   ]
  },
  {
   "cell_type": "markdown",
   "id": "e4541d46-535f-4d72-8e98-2118d9d20ecc",
   "metadata": {},
   "source": [
    "There are also some basic drift alignment functionality, for correcting drift. It wasn't really designed for atomic resolution images like these, but still work fairly well. It was implemented for correcting drift when heating samples using a DENS heating holder."
   ]
  },
  {
   "cell_type": "code",
   "execution_count": null,
   "id": "c1e754b1-1262-4c27-bc3b-cfca904a1575",
   "metadata": {},
   "outputs": [],
   "source": [
    "\n"
   ]
  },
  {
   "cell_type": "markdown",
   "id": "fad717f0-1cb0-42c1-b300-508aeb758488",
   "metadata": {},
   "source": [
    "Since this is an image stack, we use the `cascade` reference, which means the current image is compared to the previous one. For more information about the arguments, see the docstring for `align2D`"
   ]
  },
  {
   "cell_type": "code",
   "execution_count": null,
   "id": "0c510c36-caab-4e2a-8ad6-2afb77e53487",
   "metadata": {},
   "outputs": [],
   "source": []
  },
  {
   "cell_type": "code",
   "execution_count": null,
   "id": "6e9405e3-4bd9-4789-a47f-b68e0fce453a",
   "metadata": {},
   "outputs": [],
   "source": []
  },
  {
   "cell_type": "markdown",
   "id": "f83017b0-f814-499d-95f9-2e43289fa6f2",
   "metadata": {},
   "source": [
    "We can now sum this stack, to produce an image with better signal-to-noise ratio"
   ]
  },
  {
   "cell_type": "code",
   "execution_count": null,
   "id": "c22e4a56-dbeb-49c7-a2b5-04f546865c19",
   "metadata": {},
   "outputs": [],
   "source": [
    "\n"
   ]
  },
  {
   "cell_type": "markdown",
   "id": "eeeebf84-241d-4aef-808c-eaa6aa413b60",
   "metadata": {},
   "source": [
    "## Saving data"
   ]
  },
  {
   "cell_type": "markdown",
   "id": "2cdacabb-9419-4ab0-8835-92efcfae3651",
   "metadata": {},
   "source": [
    "We can store the data using `s.save`, where the default fileformat is the `.hspy` file. This is a `.hdf5` file, which is an open file format."
   ]
  },
  {
   "cell_type": "code",
   "execution_count": null,
   "id": "bee0da44-2d4a-40c1-bbf0-3fd47b64aad1",
   "metadata": {},
   "outputs": [],
   "source": []
  }
 ],
 "metadata": {
  "kernelspec": {
   "display_name": "Python 3",
   "language": "python",
   "name": "python3"
  },
  "language_info": {
   "codemirror_mode": {
    "name": "ipython",
    "version": 3
   },
   "file_extension": ".py",
   "mimetype": "text/x-python",
   "name": "python",
   "nbconvert_exporter": "python",
   "pygments_lexer": "ipython3",
   "version": "3.9.2"
  }
 },
 "nbformat": 4,
 "nbformat_minor": 5
}
